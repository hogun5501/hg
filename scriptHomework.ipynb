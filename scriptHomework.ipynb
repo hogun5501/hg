{
 "cells": [
  {
   "cell_type": "markdown",
   "id": "abb4daa9",
   "metadata": {},
   "source": [
    "# 2018136105_이호건_스크립트프로그래밍 과제"
   ]
  },
  {
   "cell_type": "markdown",
   "id": "65b30508",
   "metadata": {},
   "source": [
    "## 1. a=\"Hello Python\" 문자열을 Slicing과 연결 연산자 (+)를 사용하여 \"Python Hello\"로 변경하시오.\n",
    "## [주의] a 변수 자체에 \"Python Hello\" 문자열이 저장되어야 함"
   ]
  },
  {
   "cell_type": "code",
   "execution_count": 10,
   "id": "ab7164f0",
   "metadata": {},
   "outputs": [
    {
     "name": "stdout",
     "output_type": "stream",
     "text": [
      "Python Hello\n"
     ]
    }
   ],
   "source": [
    "a = \"Hello Python\"\n",
    "b = a[:5]\n",
    "c = a[6:]\n",
    "a = c + \" \" + b\n",
    "print(a)"
   ]
  },
  {
   "cell_type": "markdown",
   "id": "ab5aa012",
   "metadata": {},
   "source": [
    "### 문자열 슬라이싱을 활용하여 Python 과 Hello를 나눠주고 + 연산자로 다시 붙혀주었다."
   ]
  },
  {
   "cell_type": "markdown",
   "id": "0b0f51b6",
   "metadata": {},
   "source": [
    "## 2. b=\"Hello Python World\" 문자열을 Slicing과 연결 연산자 (+)를 사용하여 \"World Python Hello\"로 변경하시오.\n",
    "## [주의] b 변수 자체에 \"World Python Hello\" 문자열이 저장되어야 함\n"
   ]
  },
  {
   "cell_type": "code",
   "execution_count": 7,
   "id": "284e4d78",
   "metadata": {},
   "outputs": [
    {
     "name": "stdout",
     "output_type": "stream",
     "text": [
      "World Python Hello\n"
     ]
    }
   ],
   "source": [
    "b = \"Hello Python World\"\n",
    "a = b[:5]\n",
    "c = b[6:12]\n",
    "d = b[13:]\n",
    "b = d + \" \" + c + \" \" + a\n",
    "print(b)"
   ]
  },
  {
   "cell_type": "markdown",
   "id": "23875bf1",
   "metadata": {},
   "source": [
    "### Hello 와 Python 과 World 를 슬라이싱으로 나누어주고 +연산을 활용하여 다시 붙혀서 b에 저장해주었다.  "
   ]
  },
  {
   "cell_type": "markdown",
   "id": "ddb41648",
   "metadata": {},
   "source": [
    "## 3. c=\"Hello\"를 \"olleH\"로 변경하시오\n",
    "## [주의] c 변수 자체에 \"olleH\" 문자열이 저장되어야 함"
   ]
  },
  {
   "cell_type": "code",
   "execution_count": 18,
   "id": "48cbef89",
   "metadata": {},
   "outputs": [
    {
     "name": "stdout",
     "output_type": "stream",
     "text": [
      "olleH\n"
     ]
    }
   ],
   "source": [
    "c = \"Hello\"\n",
    "c = c[::-1]\n",
    "print(c)"
   ]
  },
  {
   "cell_type": "markdown",
   "id": "3ae0812f",
   "metadata": {},
   "source": [
    "### [::-1]를 활용하면 역순을 만들 수 있다는 점을 활용하였다. "
   ]
  },
  {
   "cell_type": "markdown",
   "id": "59654c68",
   "metadata": {},
   "source": [
    "## 4. s=\"python\"에 대해 다음 문제를 풀어보시오.\n",
    "### s[0], s[0][0], s[0][0][0]은 각각 어떤 값이 나오는지 확인하고 그 이유를 나름대로 설명해 보시오.\n",
    "### s[-100], s[100]은 값이 나오는지 에러가 나오는지 확인하고 그 결과에 대한 이유를 나름대로 설명해 보시오.\n",
    "### s[-100, 100]은 값이 나오는지 에러가 나오는지 확인하고 그 결과에 대한 이유를 나름대로 설명해 보시오.\n",
    "### s[1:-1]의 결과를 확인하고 그 결과에 대한 이유를 정확하게 설명하시오.\n",
    "### s[3:-3]의 결과를 확인하고 그 결과에 대한 이유를 정확하게 설명하시오."
   ]
  },
  {
   "cell_type": "code",
   "execution_count": 8,
   "id": "ea072f98",
   "metadata": {},
   "outputs": [
    {
     "name": "stdout",
     "output_type": "stream",
     "text": [
      "p\n",
      "p\n",
      "p\n",
      "ytho\n",
      "\n"
     ]
    }
   ],
   "source": [
    "s = \"python\"\n",
    "print(s[0]); print(s[0][0]); print(s[0][0][0])\n",
    "#셋 모두 p가 출력된다. 셋 모두 0번째 문자를 출력하도록 되어있기 때문이다.\n",
    "#print(s[-100]); print(s[100])\n",
    "#에러, 문자열의 크기가 100보다 작으므로 출력되지 않는다\n",
    "#print(s[-100, 100])\n",
    "#에러, 문자열의 크기가 100보다 작으므로 출력되지 않는다\n",
    "print(s[1:-1])\n",
    "#문자열상 1번부터 마지막 하나 전까지 출력해야 하기 때문에 y부터 n전까지 출력- > ytho\n",
    "print(s[3:-3])\n",
    "#문자열상 3번부터 마지막 세개 전까지 출력해야 하기 때문에 h부터 h전까지 출력 -> 공백"
   ]
  },
  {
   "cell_type": "markdown",
   "id": "b7595825",
   "metadata": {},
   "source": [
    "## 5. for문을 활용하여 1부터 100사이의 홀수를 출력하시오."
   ]
  },
  {
   "cell_type": "code",
   "execution_count": 24,
   "id": "ece0e118",
   "metadata": {},
   "outputs": [
    {
     "name": "stdout",
     "output_type": "stream",
     "text": [
      "1\n",
      "3\n",
      "5\n",
      "7\n",
      "9\n",
      "11\n",
      "13\n",
      "15\n",
      "17\n",
      "19\n",
      "21\n",
      "23\n",
      "25\n",
      "27\n",
      "29\n",
      "31\n",
      "33\n",
      "35\n",
      "37\n",
      "39\n",
      "41\n",
      "43\n",
      "45\n",
      "47\n",
      "49\n",
      "51\n",
      "53\n",
      "55\n",
      "57\n",
      "59\n",
      "61\n",
      "63\n",
      "65\n",
      "67\n",
      "69\n",
      "71\n",
      "73\n",
      "75\n",
      "77\n",
      "79\n",
      "81\n",
      "83\n",
      "85\n",
      "87\n",
      "89\n",
      "91\n",
      "93\n",
      "95\n",
      "97\n",
      "99\n"
     ]
    }
   ],
   "source": [
    "for i in range(1,100):\n",
    "    if (i % 2 != 0):\n",
    "        print(i)"
   ]
  },
  {
   "cell_type": "markdown",
   "id": "d2b7575c",
   "metadata": {},
   "source": [
    "### if문을 활용하여 2로 나누어서 0이 아닌 것들만 출력해주었다."
   ]
  },
  {
   "cell_type": "markdown",
   "id": "874a616f",
   "metadata": {},
   "source": [
    "## 6. while문을 활용하여 1부터 100사이의 짝수의 합을 계산하여 출력하시오."
   ]
  },
  {
   "cell_type": "code",
   "execution_count": 31,
   "id": "bf1e396a",
   "metadata": {},
   "outputs": [
    {
     "name": "stdout",
     "output_type": "stream",
     "text": [
      "2550\n"
     ]
    }
   ],
   "source": [
    "count = 1\n",
    "sum = 0\n",
    "while count <= 100:\n",
    "    if(count %2 == 0):\n",
    "        sum += count\n",
    "    count+=1\n",
    "print(sum)    "
   ]
  },
  {
   "cell_type": "markdown",
   "id": "a02d0dd5",
   "metadata": {},
   "source": [
    "### 2로 나누어서 0인 값들만 증감연산자로 더해주었고, while문이 끝났을 때 결과를 출력해주었다."
   ]
  },
  {
   "cell_type": "markdown",
   "id": "5eba551c",
   "metadata": {},
   "source": [
    "## 7. 사용자로 부터 임의의 정수를 입력받고, 해당 숫자를 역순으로 출력하는 프로그램을 작성하시오."
   ]
  },
  {
   "cell_type": "code",
   "execution_count": 2,
   "id": "4b07360c",
   "metadata": {},
   "outputs": [
    {
     "name": "stdout",
     "output_type": "stream",
     "text": [
      "정수를 입력해주세요 : 123\n",
      "321\n"
     ]
    }
   ],
   "source": [
    "str = input(\"정수를 입력해주세요 : \")\n",
    "print(str[::-1])"
   ]
  },
  {
   "cell_type": "markdown",
   "id": "e02318ce",
   "metadata": {},
   "source": [
    "### [::-1]을 쓰면 역순이 되는 것을 활용하였다."
   ]
  },
  {
   "cell_type": "markdown",
   "id": "92b16c39",
   "metadata": {},
   "source": [
    "## 8.사용자로 부터 정수를 입력받아서 1부터 그 사이에 존재하는 소수 (Prime number)를 출력하는 파이썬 프로그램을 작성하시오."
   ]
  },
  {
   "cell_type": "code",
   "execution_count": 3,
   "id": "86bbf8f5",
   "metadata": {},
   "outputs": [
    {
     "name": "stdout",
     "output_type": "stream",
     "text": [
      "5\n",
      "2 3 5 "
     ]
    }
   ],
   "source": [
    "num=int(input())\n",
    "\n",
    "def prime(a):\n",
    "  \n",
    "  if a<2:\n",
    "    return False\n",
    "  \n",
    "  elif a==2:\n",
    "    return True\n",
    "  \n",
    "  else:\n",
    "    for i in range(2,a):\n",
    "        if a%i==0:\n",
    "            return False\n",
    "        return True              \n",
    "    \n",
    "for i in range (1, num+1):\n",
    "    if prime(i):\n",
    "        print(i,end=' ')\n"
   ]
  },
  {
   "cell_type": "markdown",
   "id": "0868c323",
   "metadata": {},
   "source": [
    "### 2 이하의 값들을 따로 처리해주었고, 2보다 큰 경우 for문을 활용하여 그것보다 작은 값으로 나누었을 때 0이 되는 값이 있다면 false 아니면 true를 리턴해주었다."
   ]
  },
  {
   "cell_type": "markdown",
   "id": "9a9b5875",
   "metadata": {},
   "source": [
    "## 9. 사용자로 부터 대문자로 이루어진 string S를 입력받고, 승자와 그의 점수를 출력하는 프로그램을 작성하시오."
   ]
  },
  {
   "cell_type": "code",
   "execution_count": 9,
   "id": "93721113",
   "metadata": {},
   "outputs": [
    {
     "name": "stdout",
     "output_type": "stream",
     "text": [
      "대문자로 이루어진 문자열을 입력하세요: BANANANA\n",
      "승자 : stuart, 점수 :  20\n"
     ]
    }
   ],
   "source": [
    "s = input(\"대문자로 이루어진 문자열을 입력하세요: \")\n",
    "kevin = 0\n",
    "stuart = 0\n",
    "vowels = ['A', 'E', 'I', 'O', 'U'] # 모음\n",
    "vowelsIndex = [] # 받은 값 중 모음인 값이 있다면 위치 값 저장\n",
    "for i in range(len(s)):\n",
    "    for j in range(5):\n",
    "        if(s[i] == vowels[j]):\n",
    "            vowelsIndex.append(i)\n",
    "for i in range(len(s)):\n",
    "    for j in range(i, len(s)):\n",
    "        if i in vowelsIndex: # 모음 시작일 경우\n",
    "            kevin+=1\n",
    "        else:\n",
    "            stuart+=1\n",
    "if(kevin > stuart):\n",
    "    print(\"승자 : kevin, 점수 : \", kevin)\n",
    "elif(stuart > kevin):\n",
    "    print(\"승자 : stuart, 점수 : \", stuart)\n",
    "elif(kevin == stuart): #동점시 출력\n",
    "    print(\"아쉽게도 동점이 나왔네요~\")"
   ]
  },
  {
   "cell_type": "markdown",
   "id": "e354246c",
   "metadata": {},
   "source": [
    "### 모음의 위치를 vowelsIndex에 따로 저장해주고 이중 for문을 활용하여 모음 시작일 경우 kevin에게 그 외 경우 stuart에게 점수를 주었다."
   ]
  },
  {
   "cell_type": "markdown",
   "id": "498cf05c",
   "metadata": {},
   "source": [
    "## 10. 알파벳 소문자만으로 이루어진 string, S, 가 주어지고 아래 2가지 연산을 수행할 수 있다.\n",
    "### 추가 : string S의 끝에 알파벳 소문자 하나를 추가한다.\n",
    "### 삭제 : string S의 마지막 문자 하나를 삭제한다. empty string에서 삭제 연산을 수행한 결과는 empty string이다.\n",
    "### 두 개의 string, s와 t, 그리고 정수 k가 주어질 때, 정확히 k번의 연산을 통해 s를 t로 바꿀 수 있는지 판단하는 함수를 작성하시오."
   ]
  },
  {
   "cell_type": "code",
   "execution_count": 6,
   "id": "e7ea341a",
   "metadata": {},
   "outputs": [
    {
     "name": "stdout",
     "output_type": "stream",
     "text": [
      "s값을 입력해주세요 : hac\n",
      "t값을 입력해주세요 : cah\n",
      "k값을 입력해주세요 : 6\n",
      "s =  hac\n",
      "t =  cah\n",
      "k =  6\n",
      "result =  Yes\n"
     ]
    }
   ],
   "source": [
    "def appendDelete(s, t, k):  \n",
    "    count = 0\n",
    "    if(int(k) >= (len(s)+len(t))):\n",
    "        return 'Yes'\n",
    "    \n",
    "    if(len(s) > len(t)):\n",
    "        while(len(s) > len(t)):\n",
    "            s = s[:-1]\n",
    "            count+=1\n",
    "        \n",
    "    elif(len(t) > len(s)):\n",
    "        while(len(t) > len(s)):\n",
    "            s += '1'\n",
    "            count+=1\n",
    "    \n",
    "    for i in range(len(s)):\n",
    "        if(s[i] != t[i]):\n",
    "            s = s[:-1]\n",
    "            count+=1\n",
    "            s += t[i]\n",
    "            count+=1\n",
    "    \n",
    "    if(s == t):      \n",
    "        if(int(k) == count):\n",
    "            return 'Yes'    \n",
    "        elif(int(k) > count):\n",
    "            if((int(k) - count) %2 == 0):\n",
    "                return 'Yes'\n",
    "        else:\n",
    "            return 'No'\n",
    "\n",
    "s = input(\"s값을 입력해주세요 : \")\n",
    "t = input(\"t값을 입력해주세요 : \")\n",
    "k = input('k값을 입력해주세요 : ')    \n",
    "print(\"s = \",s)\n",
    "print(\"t = \",t)\n",
    "print(\"k = \",k)\n",
    "print(\"result = \",appendDelete(s,t,k))"
   ]
  },
  {
   "cell_type": "markdown",
   "id": "7ed63f47",
   "metadata": {},
   "source": [
    "### 만약 s의 크기와 t의 크기를 합친 값이 k보다 작으면 같다면 이 값이 짝수이든 홀수이든 무조건 'Yes'라는 결과가 나온다. 그렇지 않을 경우 삭제하거나 추가할 시 count값을 1씩 증가시켜주어 count 값과 k값이 같으면 'Yes' 결과를 리턴해주었다. 만약  k보다 작은데 이미 s와 t가 같아 졌을 경우, k-count가 짝수면 'Yes'이지만 아니면 'No'이다."
   ]
  },
  {
   "cell_type": "markdown",
   "id": "b9a31176",
   "metadata": {},
   "source": [
    "# "
   ]
  },
  {
   "cell_type": "markdown",
   "id": "eed438bd",
   "metadata": {},
   "source": [
    "### 느낀점 : 1번부터 문제를 풀이하면서 처음에는 어렵지않게 문제를 해결할 수 있었지만, 9번과 10번은 고민을 꽤 많이 하고, 종이로 먼저 얼추 풀어보고 코딩을 시작했던 것 같습니다. 이 과제를 통해 모호했던 파이썬의 개념들도 어느 정도 정리가 된 것 같습니다. 강의를 듣고 따라 풀다가 직접 고민해보고 코딩을 하니까 실력적으로 도움이 많이 된 것 같습니다. "
   ]
  },
  {
   "cell_type": "markdown",
   "id": "27d27c62",
   "metadata": {},
   "source": [
    "# "
   ]
  }
 ],
 "metadata": {
  "kernelspec": {
   "display_name": "Python 3",
   "language": "python",
   "name": "python3"
  },
  "language_info": {
   "codemirror_mode": {
    "name": "ipython",
    "version": 3
   },
   "file_extension": ".py",
   "mimetype": "text/x-python",
   "name": "python",
   "nbconvert_exporter": "python",
   "pygments_lexer": "ipython3",
   "version": "3.8.8"
  }
 },
 "nbformat": 4,
 "nbformat_minor": 5
}
