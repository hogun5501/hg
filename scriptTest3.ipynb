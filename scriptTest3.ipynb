{
 "cells": [
  {
   "cell_type": "markdown",
   "id": "9d65ba06",
   "metadata": {},
   "source": [
    "## 2018136105 _ 이호건 _ 스크립트프로그래밍 3"
   ]
  },
  {
   "cell_type": "markdown",
   "id": "8eb0fa9a",
   "metadata": {},
   "source": [
    "## 1.L=[1, 2, 3, 4, 5]일 때 다음 각 문장을 수행한 후의 결과를 보고 납득할 만한 이유를 설명하시오."
   ]
  },
  {
   "cell_type": "code",
   "execution_count": 9,
   "id": "928b3fb1",
   "metadata": {},
   "outputs": [
    {
     "name": "stdout",
     "output_type": "stream",
     "text": [
      "[1, 100, 4, 5]\n",
      "[1, 100, 4, 5]\n",
      "[1, 100, 101, 102, 4, 5]\n",
      "[1, 100, 101, 102, 4, 5]\n",
      "[1, (100, 101, 102), 4, 5]\n",
      "[1, [100, 101, 102], 4, 5]\n"
     ]
    }
   ],
   "source": [
    "#1)\n",
    "L = [1,2,3,4,5]\n",
    "L[1:3] = [100]\n",
    "print(L)\n",
    "\n",
    "#2)\n",
    "L = [1,2,3,4,5]\n",
    "L[1:3] = [(100)]\n",
    "print(L)\n",
    "\n",
    "#3)\n",
    "#L = [1,2,3,4,5]\n",
    "#L[1:3] = 100\n",
    "#print(L)\n",
    "\n",
    "#4)\n",
    "#L = [1,2,3,4,5]\n",
    "#L[1:3] = (100)\n",
    "#print(L)\n",
    "\n",
    "#5)\n",
    "L = [1,2,3,4,5]\n",
    "L[1:3] = (100, 101, 102)\n",
    "print(L)\n",
    "\n",
    "#6)\n",
    "L = [1,2,3,4,5]\n",
    "L[1:3] = [100, 101, 102]\n",
    "print(L)\n",
    "\n",
    "#7)\n",
    "L = [1,2,3,4,5]\n",
    "L[1:3] = [(100, 101, 102)]\n",
    "print(L)\n",
    "\n",
    "#8)\n",
    "L = [1,2,3,4,5]\n",
    "L[1:3] = [[100, 101, 102]]\n",
    "print(L)"
   ]
  },
  {
   "cell_type": "markdown",
   "id": "ca800017",
   "metadata": {},
   "source": [
    "### 1번 L[1:3], 즉 L리스트의 요소 2,3 이 있는 위치에 100을 대입하는 것이다.\n",
    "### 2번 L[1:3], 즉 L리스트의 요소 2,3 이 있는 위치에 (100)을 대입하는 것인데 (100)은 100과 같기 때문에 1번과 결과가 같다.\n",
    "### 3번 집합 자료형만 대입될 수 있는데 100은 집합자료형이 아니기 때문에 에러가 난다.\n",
    "### 4번 집합 자료형만 대입될 수 있는데 (100)은 100과 같이 집합자료형이 아니기 때문에 에러가 난다.\n",
    "### 5번 L[1:3], 즉 L리스트의 요소 2,3 이 있는 위치에 100, 101, 102를 대입하는 것이다.\n",
    "### 6번 L[1:3], 즉 L리스트의 요소 2,3 이 있는 위치에 100, 101, 102를 대입하는 것이다.\n",
    "### 7번 L[1:3], 즉 L리스트의 요소 2,3 이 있는 위치에 (100, 101, 102)를 대입하는 것이다.\n",
    "### 8번 L[1:3], 즉 L리스트의 요소 2,3 이 있는 위치에 [100, 101, 102]를 대입하는 것이다."
   ]
  },
  {
   "cell_type": "markdown",
   "id": "3b6b7a0e",
   "metadata": {},
   "source": [
    "## 2.문자열 S = 'Hello World and Python'에 대해 다음 요구사항에 대한 Python 코드를 제시하시오.\n",
    "### 1) 단어의 순서가 역순으로 되어진 문자열 ('Python and World Hello')을 만들고\n",
    "### 2) 1)의 결과 문자열에 대해 메소드 split과 join을 이용하여 공백을 모두 없엔 문자열 'PythonandWorldHello'을 만드시오."
   ]
  },
  {
   "cell_type": "code",
   "execution_count": 18,
   "id": "271d76c7",
   "metadata": {},
   "outputs": [
    {
     "name": "stdout",
     "output_type": "stream",
     "text": [
      "Python and World Hello \n",
      "PythonandWorldHello\n"
     ]
    }
   ],
   "source": [
    "String = 'Hello World and Python'\n",
    "String = String[16:] + String[11:16] + String[6:12] + String[:6]\n",
    "print(String)\n",
    "String = String.split()\n",
    "String = ''.join(String)\n",
    "print(String)"
   ]
  },
  {
   "cell_type": "markdown",
   "id": "c1d5ffc1",
   "metadata": {},
   "source": [
    "### 슬라이싱을 이용하여 필요한 위치를 잘라낸 후 이를 재조합하여 필요한문장으로 만들고 split()으로 공백부분을 없애서 list에 저장했다가 join()을 통해서 하나의 문장으로 나타내었다."
   ]
  },
  {
   "cell_type": "markdown",
   "id": "4866e85f",
   "metadata": {},
   "source": [
    "## 3. 다음 코드를 보고 물음에 답하시오.\n",
    "### a = [1, 2, 3]\n",
    "### b = a * 3\n",
    "### c = [a] * 3\n",
    "### print(b)\n",
    "### print(c)\n",
    "### 1) 위 코드를 수행한 이후 다음 코드를 수행한 후 b와 c의 내용을 확인하시오.\n",
    "### a[0]=0\n",
    "### 2) b와 c 객체의 차이는 무엇인가? "
   ]
  },
  {
   "cell_type": "code",
   "execution_count": 20,
   "id": "4d6c410f",
   "metadata": {},
   "outputs": [
    {
     "name": "stdout",
     "output_type": "stream",
     "text": [
      "[1, 2, 3, 1, 2, 3, 1, 2, 3]\n",
      "[[1, 2, 3], [1, 2, 3], [1, 2, 3]]\n",
      "[1, 2, 3, 1, 2, 3, 1, 2, 3]\n",
      "[[0, 2, 3], [0, 2, 3], [0, 2, 3]]\n"
     ]
    }
   ],
   "source": [
    "a = [1, 2, 3]\n",
    "b = a * 3\n",
    "c = [a] * 3\n",
    "print(b)\n",
    "print(c)\n",
    "a[0] = 0\n",
    "print(b)\n",
    "print(c)"
   ]
  },
  {
   "cell_type": "markdown",
   "id": "cdd58ab6",
   "metadata": {},
   "source": [
    "### b는 리스트a의 원소들을 3번 반복하여 가진다. 즉, b는 a를 세번 반복한 새로운 객체이다.\n",
    "### c는 리스트a를 원소로가진다. c의 각각의 원소가 가르키는 레퍼런스는 a가 가르키는 레퍼런스와 같다. 그렇기 때문에, a가 바뀌면 c도 같이 바뀐다."
   ]
  },
  {
   "cell_type": "markdown",
   "id": "d72f91cf",
   "metadata": {},
   "source": [
    "## 4. 다음 문자열을 ':'을 기준으로 분리하여 리스트로 만들고 각 문자열의 좌우 공백을 제거하시오 (즉, 문자열 S에서 l을 만들어라)\n",
    "### s = '  first star   :   second star   :    third star  '\n",
    "### l = ['first star', 'second star', 'third star']\n",
    "### 1) for ~ in 문을 이용한 코드를 작성하시오.\n",
    "### 2) 리스트 내포(list comprehension)를 이용한 코드를 작성하시오."
   ]
  },
  {
   "cell_type": "code",
   "execution_count": 74,
   "id": "1f6930ce",
   "metadata": {},
   "outputs": [
    {
     "name": "stdout",
     "output_type": "stream",
     "text": [
      "['  first star   ', '   second star   ', '    third star  ']\n",
      "['first star', 'second star', 'third star']\n",
      "['first star', 'second star', 'third star']\n"
     ]
    }
   ],
   "source": [
    "s = '  first star   :   second star   :    third star  '\n",
    "s = s.split(':')\n",
    "print(s)\n",
    "for x in range(0,len(s)):\n",
    "    s[x] = s[x].strip()\n",
    "    \n",
    "print (s)\n",
    "\n",
    "s = '  first star   :   second star   :    third star  '\n",
    "s = s.split(':')\n",
    "print([s[x].strip() for x in range(0,len(s))])"
   ]
  },
  {
   "cell_type": "markdown",
   "id": "65067f99",
   "metadata": {},
   "source": [
    "### s를 ':'를 기준으로 split()으로 구분하여 리스트화하여 다시 s에 집어넣고 그후 양쪽에 공백을 strip() 함수를 통해 지운 후 다시 원래 자리에 넣었다.\n",
    "### 1번처럼 split() 후 리스트 내포를 통해 strip을 하여 s[x]에 각각의 원소를 넣어 주었다. "
   ]
  },
  {
   "cell_type": "markdown",
   "id": "7bfcc7bc",
   "metadata": {},
   "source": [
    "## 5. 다음과 같이 0보다 큰 정수 리스트 변수 list를 인자로 받는 함수 addall(list)와 addallodd(list)를 for ~ in 리터널과 리스트 내포 방식으로 각각 제시하시오.\n",
    "### 1) addall(list) 함수 (리스트 내의 모든 정수를 더하는 함수로서 해답으로는 for ~ in 리터럴과 리스트 내포 방식으로 각각 제시하시오.)\n",
    "### >>> addall([1])\n",
    "### 1\n",
    "### >>> addall([1, 2, 3, 4, 5, 6, 7, 8, 9])\n",
    "### 45\n",
    "### 2) addallodd(list) 함수 (리스트내의 모든 홀수를 더하는 함수로서 해답으로는 for ~ in 리터럴과 리스트 내포 방식으로 각각 제시하시오.)\n",
    "### >>> addallodd([1])\n",
    "### 1\n",
    "### >>> addallodd([1, 2, 3, 4, 5, 6, 7, 8, 9])\n",
    "### 25\n",
    "### [참고 1]: 리스트 내포 방식으로 addall() 및 addallodd()함수를 만들 때엔 리스트 내포에 의해 생성된 리스트 결과에 대해 내장 함수를 사용하는 방식을 고려해보시오 (주의: 리스트 내포 방식의 addall() 및 addallodd() 함수의 몸체는 단 1줄로 작성되어야 한다.)\n",
    "### [참고 2]: sum() 등의 내장함수 사용 가능함"
   ]
  },
  {
   "cell_type": "code",
   "execution_count": 48,
   "id": "64503705",
   "metadata": {},
   "outputs": [
    {
     "name": "stdout",
     "output_type": "stream",
     "text": [
      "45\n",
      "25\n",
      "45\n",
      "25\n"
     ]
    }
   ],
   "source": [
    "def addall_f(list):\n",
    "    result = 0\n",
    "    for a in range(len(list)):\n",
    "        result = result + list[a]\n",
    "    return result\n",
    "\n",
    "def addall_l(list):\n",
    "    result = 0 \n",
    "    result = sum([list[a] for a in range(len(list))])\n",
    "    return result\n",
    "\n",
    "def addallodd_f(list):\n",
    "    result = 0\n",
    "    for a in range(len(list)):\n",
    "        if(list[a]%2!=0):\n",
    "            result = result + list[a]\n",
    "    return result\n",
    "    \n",
    "def addallodd_l(list):\n",
    "    result = 0 \n",
    "    result = sum([list[a] for a in range(0, len(list)) if(list[a]%2!=0)])\n",
    "    return result\n",
    " \n",
    "list1 = [1,2,3,4,5,6,7,8,9]\n",
    "a = addall_l(list1)\n",
    "print(a)\n",
    "b = addallodd_l(list1)\n",
    "print(b)\n",
    "c = addall_f(list1)\n",
    "print(c)\n",
    "d = addallodd_f(list1)\n",
    "print(d)"
   ]
  },
  {
   "cell_type": "markdown",
   "id": "ff8fbac2",
   "metadata": {},
   "source": [
    "### addall_f : for 문을 사용하여 리스트 요소들을 모두 더해준 후 return 하였다.\n",
    "### addall_l : list의 모든 요소를 sum() 을 통해 더해준 후 return 하였다.\n",
    "### addallodd_f : 조건문을 활용하여 홀수만 찾아서 addall_f와 같이 해주었다.\n",
    "### addallodd_l : 리스트내포를 이용하여 홀수인 경우만 sum()을 활용하여 더해주었다."
   ]
  },
  {
   "cell_type": "markdown",
   "id": "8d1e8898",
   "metadata": {},
   "source": [
    "## 6. 다음 코드를 보고 물음에 답하시오.\n",
    "### L1 = [1, 2, 3]\n",
    "### L2 = [4, 5, 6]\n",
    "### d = {'low':L1, 'high':L2}\n",
    "### e = d\n",
    "### f = d.copy()\n",
    "### print(d)\n",
    "### print(e)\n",
    "### print(f)\n",
    "### print()\n",
    "### d['low'] = [10, 20, 30]\n",
    "### d['high'][1] = 500\n",
    "### print(d)\n",
    "### print(e)\n",
    "### print(f)\n",
    "### 1) 위 코드의 수행 결과 d와 e는 항상 같은 결과를 출력한다. 그 이유는 무엇인가?\n",
    "### 2) 위 코드의 수행 결과 마지막 f의 내용은 다음과 같다. 이 때 'high' 키의 값 내용 중 500이 출력된 이유와 'low' 키의 값 내용 중 [1, 2, 3]이 출력된 이유를 설명하시오 ([hint]: shallow copy 관점에서 설명하시오.)\n",
    "### {'high': [4, 500, 6], 'low': [1, 2, 3]}"
   ]
  },
  {
   "cell_type": "code",
   "execution_count": 51,
   "id": "257cb732",
   "metadata": {},
   "outputs": [
    {
     "name": "stdout",
     "output_type": "stream",
     "text": [
      "{'low': [1, 2, 3], 'high': [4, 5, 6]}\n",
      "{'low': [1, 2, 3], 'high': [4, 5, 6]}\n",
      "{'low': [1, 2, 3], 'high': [4, 5, 6]}\n",
      "\n",
      "{'low': [10, 20, 30], 'high': [4, 500, 6]}\n",
      "{'low': [10, 20, 30], 'high': [4, 500, 6]}\n",
      "{'low': [1, 2, 3], 'high': [4, 500, 6]}\n"
     ]
    }
   ],
   "source": [
    "L1 = [1, 2, 3]\n",
    "L2 = [4, 5, 6]\n",
    "d = {'low':L1, 'high':L2}\n",
    "e = d\n",
    "f = d.copy()\n",
    "print(d)\n",
    "print(e)\n",
    "print(f)\n",
    "print()\n",
    "d['low'] = [10, 20, 30]\n",
    "d['high'][1] = 500\n",
    "print(d)\n",
    "print(e)\n",
    "print(f)"
   ]
  },
  {
   "cell_type": "markdown",
   "id": "06273f0d",
   "metadata": {},
   "source": [
    "### 1번 : d와 e는 같은 reference를 갖기 때문이다.\n",
    "### 2번 : f는 d를 얕은 복사하였기 때문에 서로 다른 reference를 갖지만 내부에 있는 리스트 객체는 shallow copy를 해서 같은 reference를 가지게된다. d['low']를 [1,2,3]에서 [10, 20, 30]으로 바꿀때는 d와 f는 서로 다른 reference를 갖기 때문에 d와 e만 변하지만 d['high'][1]을 변경할 때는 리스트 내부의 원소를 바꾸는 것이므로 d와 f는 같은 [4,5,6]을 가리키고 있기 때문에 d, e, f 모두 [4, 500, 6]으로 바뀌었다. "
   ]
  },
  {
   "cell_type": "markdown",
   "id": "ef79c7d5",
   "metadata": {},
   "source": [
    "## 7. 사전 d = {'one':1, 'two':2, 'three':3, 'four':4, 'five':5}가 주어졌을 때 다음 요구사항에 맞는 코드를 제시하시오\n",
    "### [참고]: d.keys(), d.values()를 통해 리스트를 얻어낸 후 리스트가 지니고 있는 sort(cmp=None, key=None, reverse=False)함수를 활용하시오.\n",
    "### 1) 키의 알파벳 오름차순 순서대로 튜플 (키, 값)을 차례대로 출력하시오.\n",
    "### 2) 키의 알파벳 내림차순 순서대로 튜플 (키, 값)을 차례대로 출력하시오.\n",
    "### 3) 값의 오름차순 순서대로 튜플 (키, 값)을 차례대로 출력하시오.\n",
    "### 4) 값의 내림차순 순서대로 튜플 (키, 값)을 차례대로 출력하시오."
   ]
  },
  {
   "cell_type": "code",
   "execution_count": 72,
   "id": "eaae7adb",
   "metadata": {},
   "outputs": [
    {
     "name": "stdout",
     "output_type": "stream",
     "text": [
      "[('five', 5), ('four', 4), ('one', 1), ('three', 3), ('two', 2)]\n",
      "[('two', 2), ('three', 3), ('one', 1), ('four', 4), ('five', 5)]\n",
      "[('one', 1), ('two', 2), ('three', 3), ('four', 4), ('five', 5)]\n"
     ]
    }
   ],
   "source": [
    "def cmp(a):\n",
    "    return a[1]\n",
    "\n",
    "d = {'one':1, 'two':2, 'three':3, 'four':4, 'five':5}\n",
    "list = []\n",
    "for (i,j) in d.items():\n",
    "    list.append((i,j))\n",
    "print (sorted(list))\n",
    "print ( sorted(list, reverse = True) )\n",
    "print ( sorted(list, key = cmp))"
   ]
  },
  {
   "cell_type": "markdown",
   "id": "acd5830b",
   "metadata": {},
   "source": [
    "### sorted()함수를 이용하여 list를 정렬한 후 print()해주었다.\n",
    "### 두번째 출력은 reverse = True를 활용하여 거꾸로 print()해주었다.\n",
    "### sorted()의 key를 활용해주면서 a[1] 값 즉, value값이 작은 수부터 정렬해주었다. "
   ]
  },
  {
   "cell_type": "markdown",
   "id": "2b4ba20e",
   "metadata": {},
   "source": [
    "## 8. 다음 문제를 정확히 읽고 적합한 코딩을 제시하시오.\n",
    "### length(X)를 다음과 같이 정의한다 : 10진수로 표현된 X의 자릿수\n",
    "### Strange라는 숫자를 아래과 같이 정의한다.\n",
    "### 음이 아닌 정수 중 자릿수가 1인 모든 숫자는 Strange이다.\n",
    "### length(X) > 1 인 숫자 X 는 다음 2가지를 만족하면 Strange이다.\n",
    "### X는 length(X)로 정확히 나누어 떨어진다.\n",
    "### X / length(X) 가 strnage이다.\n",
    "### 이 문제에서 숫자 하나가 주어질 때, 이 숫자가 Strange인지 판단하는 함수 isStrange(num)을 작성하시오.\n",
    "### isStrange(num) 함수가 재귀적인 함수가 되도록 작성해 보세요."
   ]
  },
  {
   "cell_type": "code",
   "execution_count": 126,
   "id": "82b985f6",
   "metadata": {},
   "outputs": [],
   "source": [
    "def isStrange(num):\n",
    "    b = num\n",
    "    a = 0\n",
    "    while(num > 0):\n",
    "        num = num // 10\n",
    "        a += 1\n",
    "    if b <= 0:\n",
    "        return False\n",
    "    else:\n",
    "        if a==1:\n",
    "            return True\n",
    "        elif (b%a ==0 and isStrange(int(b/a))):\n",
    "            return True\n",
    "        else:\n",
    "            return False"
   ]
  },
  {
   "cell_type": "code",
   "execution_count": 127,
   "id": "1c824d7b",
   "metadata": {},
   "outputs": [
    {
     "name": "stdout",
     "output_type": "stream",
     "text": [
      "False\n",
      "True\n",
      "False\n",
      "True\n",
      "False\n"
     ]
    }
   ],
   "source": [
    "print(isStrange(0))\n",
    "print(isStrange(5))\n",
    "print(isStrange(100))\n",
    "print(isStrange(7882602506492313600))\n",
    "print(isStrange(6012302549522098651))"
   ]
  },
  {
   "cell_type": "markdown",
   "id": "2231badf",
   "metadata": {},
   "source": [
    "### 우선 num을 b에 담아주고 a에는 num의 자릿수를 구할 수 있도록 반복문을 돌린다. b 즉, 받은 값이 0보다 작거나 같으면 false를 반환, 그 외에 자릿수가 한자리면 true를 반환, 한자리가 아닐 때 자릿수로 나눠지고 재귀호출 해서 true면 true를 반환, 그 외에는 false를 반환하여 준다."
   ]
  },
  {
   "cell_type": "markdown",
   "id": "56726dbf",
   "metadata": {},
   "source": [
    "## 9. 다음 문제를 정확히 읽고 적합한 코딩을 제시하시오.\n",
    "\n",
    "### 1번 그룹, 2번 그룹, ... n번 그룹으로 번호가 매겨진 총 n개의 그룹이 존재하고, ith 그룹에는 임의의 팀원 수 ai 명이 있다.\n",
    "### 하나의 버스 정류장이 있고, 버스는 오직 한 대만 운영한다. 버스는 버스 정류장에 도착하고 모든 그룹은 버스를 통해 여행하길 원한다.\n",
    "### 하지만, 같은 그룹에 속한 팀원들은 분리되기를 원치 않는다. 그래서 그룹의 모든 팀원이 탈 수 있을 때 에만 그 그룹은 버스에 탑승한다.\n",
    "### 또한, 이들은 그룹의 번호순으로 여행을 하길 원한다. 예를 들어, 3번 그룹은 1번 그룹과 2번 그룹이 여행을 한 뒤에 버스를 탈 수 있거나, 1번 그룹과 2번 그룹이 이미 버스에 탑승한 상태에 있을 때 동시에 버스를 탈 수 있다.\n",
    "### 마지막으로, 버스는 빈 좌석이 없을 때 에만 여행을 떠난다.\n",
    "### 이 문제에서 각 그룹의 팀원 수가 리스트로 주어질 때, 가능한 모든 버스의 사이즈 x(x명의 사람들이 동시에 탈 수 있음)를 반환하는 함수 solve(a) 를 작성하시오.\n",
    "### [주의] 반드시 계산 복잡도를 최대한 낮추세요. 아래 예시 3번을 실행했을 때 결과가 바로 나타날 수 있도록!!"
   ]
  },
  {
   "cell_type": "code",
   "execution_count": 1,
   "id": "dd1a9328",
   "metadata": {},
   "outputs": [
    {
     "name": "stdout",
     "output_type": "stream",
     "text": [
      "[3, 4, 6, 12]\n",
      "[1, 2, 4]\n"
     ]
    }
   ],
   "source": [
    "def maxScore(data): #입력한 리스트의 요소 가장 값이 큰 것을 찾는 함수\n",
    "    result = data[0]\n",
    "    for item in data:\n",
    "        if item > result:\n",
    "            result = item\n",
    "    return result\n",
    "\n",
    "def findDivisor(m): #약수를 찾는 함수\n",
    "    al = [] \n",
    "    for a in range(1, m+1): \n",
    "        if m == a: \n",
    "            al.append(a) \n",
    "        elif m % a == 0: \n",
    "            al.append(a)\n",
    "    return al\n",
    "        \n",
    "def solve(a):\n",
    "    count = 0\n",
    "    arr=[]\n",
    "    maxnum = maxScore(a)\n",
    "    sumlist=sum(a)\n",
    "    arr = findDivisor(sumlist)\n",
    "    for i in range(len(arr)):\n",
    "        if arr[i] < maxnum:\n",
    "            count += 1\n",
    "    return arr[count:]\n",
    "\n",
    "print(solve([1, 2, 1, 1, 1, 2, 1, 3]))\n",
    "print(solve([1,1,1,1]))\n",
    "#print(solve([9999] * 10**5))"
   ]
  },
  {
   "cell_type": "markdown",
   "id": "3ce2f42e",
   "metadata": {},
   "source": [
    "### 입력한 리스트의 요소 중 가장 큰 값을 찾고, 약수만 나타내는 리스트를 찾으면, 약수만 나타내는 리스트 중 입력한 리스트의 요소 중 가장 큰 값 이상의 수부터 출력하면 된다. 3번째 리스트는 너무 오래걸려서 주석처리하였다."
   ]
  },
  {
   "cell_type": "markdown",
   "id": "48b3bf31",
   "metadata": {},
   "source": [
    "## [Incremental Project 문제]\n",
    "### 이전 Assignment 2의 마지막 문제는 웹 URL로 지정된 웹페이지를 문자열로 가져와 모든 HTML 태그를 제외한 순수 텍스트를 얻어내고 그 안에 존재하는 단어를 추출하고 단어들의 총 개수를 출력하는 프로그램을 작성하는 것이었다. 이번에는 그 마지막 숙제를 그대로 확장하여 웹 URL로 지정된 웹페이지 내 순수 텍스트 안에 존재하는 각 단어들에 대해 다음 요구사항 대로 출력하는 프로그램을 작성하시오."
   ]
  },
  {
   "cell_type": "code",
   "execution_count": 14,
   "id": "1c21be09",
   "metadata": {},
   "outputs": [
    {
     "name": "stdout",
     "output_type": "stream",
     "text": [
      "{'1': 1, '닫기': 1, 'Link': 1, 'Service': 1, '재학생': 3, '학생이': 4, '행복한': 4, '대학': 8, '한국기술교육대학교': 12, '온라인교육지원': 3, '생활관': 3, '원격지원': 2, '오늘의': 2, '식단': 2, '시설보수신청': 1, '학사종합시스템': 1, '인터넷증명발급': 3, '동아리안내': 2, '입학정보': 4, '코리아텍의': 4, '입학정보를': 4, '제공합니다': 8, '취업정보': 4, '최신': 4, '취업관련': 4, '정보를': 4, '예비대학생': 3, '입학안내': 3, '학부소개': 2, '언론기사': 2, '홍보영상물': 2, '장학제도': 2, '전화번호찾기': 2, '찾아오시는길': 3, '교직원': 3, '아우누리': 1, '무선랜신청': 1, '교육장비검색': 1, '일반인': 3, '코리아텍소개': 1, 'VISION2020': 2, 'PLUS': 2, '대학원소개': 1, '캠퍼스투어': 1, '코리아텍': 1, '특장점': 1, '자세히': 2, '보기': 2, '중앙일보대학평가‘교육중심대학’': 2, '1위': 5, '코리아텍은': 2, '중앙일보대학평가': 2, '11년': 2, '연속으로': 2, '“교육중심대학': 2, '1위”': 2, '의': 2, '성과를': 2, '이루었습니다': 2, '스킵네비게이션': 1, '본문바로가기': 1, '주메뉴바로가기': 1, '통학·셔틀버스': 1, '명칭': 2, '대표홈': 1, '홈': 1, '회원가입': 1, '로그인': 1, '마이페이지': 1, '로그아웃': 1, 'Contact': 1, 'Us': 1, '링크1': 1, '링크2': 1, '링크3': 1, '링크4': 1, '링크5': 1, '언어영': 1, '언어중': 1, '언어일': 1, '언어한': 1, '검색': 1, '사이트맵': 1, '안전보건경영': 2, '웹메일': 3, '행정서비스헌장': 2, '부패행위신고': 1, '홈페이지': 1, '오류신고': 1, 'ENG': 2, 'CHI': 2, '팝업': 1, '0건': 1, '전체메뉴열기': 1, '전체메뉴닫기': 1, '대학소개': 1, 'KOREATECH소개': 1, '교육목표': 1, '및': 2, '인재상': 1, '대학특성': 1, 'KOREATECH': 7, '심볼': 1, '교가': 1, '캠퍼스': 1, '안내': 1, '통학셔틀버스안내': 1, 'KOREATECH20년': 1, '총장실': 1, '총장인사말': 1, '총장프로필': 1, '총장동정': 1, '열린총장실': 1, '역대총장': 1, '대학현황': 1, '대학요람': 1, '규정집': 1, '연혁': 1, '재정현황': 1, '시설현황': 1, '재학생현황': 1, '대학조직': 1, '조직구성': 1, '전화번호검색': 1, '국제교류': 1, '국제교류현황': 1, '국제협력프로그램': 1, '발전기금': 2, '모금캠페인': 1, '참여하기': 1, '기부자예우': 1, '발전기금소식': 1, '후원커뮤니티': 1, '부패행위': 2, '신고': 2, '익명신고': 1, '청렴게시판': 1, '청렴자료실': 1, '청탁금지법': 2, 'QA': 2, '국민권익위': 1, '비전': 1, '추진체계': 1, '안전보건방침': 1, '선포식': 1, '안전': 2, '게시판': 2, '감염병': 1, '자료실': 1, '신문고': 1, '대학원': 2, '입시요강': 1, '전년도': 1, '결과확인': 1, '모의성적계산': 1, '대학대학원': 2, '기계공학부': 2, '메카트로닉스공학부': 3, '전기전자통신공학부': 2, '컴퓨터공학부': 2, '디자인·건축공학부': 1, '에너지신소재화학공학부': 2, '산업경영학부': 2, '고용서비스정책학과': 1, '교양학부': 2, 'HRD학과': 2, '융합학과': 2, '일학습병행대학': 1, '대학생활': 1, '학사안내': 1, '학사일정': 2, '학적': 1, '변동': 1, '교과과정': 1, '특수교과': 1, '수강신청': 1, '졸업': 1, '졸업작품': 2, '해외연수': 1, '교환학생안내': 1, '어학연수안내': 1, '교내장학금': 1, '교외장학금': 1, '캠퍼스생활': 1, '은행업무': 1, '증명서발급': 1, '학생증발급': 1, '도서관이용안내': 1, '모바일화폐페이코사용안내': 1, '보건실안내': 1, '소프트웨어사용안내': 1, '무선랜사용신청': 1, '병사안내': 1, '병무안내': 1, '직장예비군안내': 1, '민방위안내': 1, '병무안내관련사이트': 1, '커뮤니티': 1, '공지사항': 4, '일반공지': 1, '장학공지': 1, '학사공지': 1, '채용공지': 1, '코로나19관련공지': 1, '학부모님': 1, '의견란': 1, '고객만족경영': 1, '고객만족경영체계': 1, '고객의': 1, '소리제안': 1, 'VOC': 1, '개선사항': 1, '정보공개': 2, '정보공개제도안내': 1, '정보공개업무편람': 1, '정보공개이의신청': 1, '사전정보공표목록': 1, '인터넷정보공개청구': 1, '행정정보소재': 1, '공공데이터': 1, '공공데이터개방': 1, '데이터의견수렴·오류신고': 1, '행정공시': 1, '학교법인임원공시': 1, '구매입찰': 1, '회계공시': 1, '경영공시': 1, '대학알리미': 1, 'ALIO경영공시': 1, '대학혁신지원사업': 2, '사업실명제': 1, '민간투자사업': 1, '개교': 1, '30주년': 3, '사업소개': 1, '위원장': 1, '인사말': 1, '기념사업': 1, '개요': 1, '엠블럼': 1, '30년': 2, '발자취': 1, '함께하는': 1, '사업소식': 1, '자료': 1, '기증': 1, 'Story': 1, 'NEWS': 1, '대학홍보영상': 1, '홍보관련영상': 1, '언론보도영상': 1, '홍보대사': 1, '나래': 1, '대학소식지': 1, '대학캠퍼스투어': 1, '홍보브로셔': 1, '학부모': 1, '초청의': 1, '날': 1, '행사참여안내': 1, '행사참여신청': 1, '포토갤러리': 2, 'CoverStory': 1, '홍보소재제안': 1, '전체메뉴보기': 1, 'SEARCH': 1, '대한민국': 1, '기술리더': 1, '01': 1, 'COVER': 3, 'STORY': 3, '코로나에': 1, '못': 1, '만난다고quot아바타로': 1, '회의하고': 1, '협약까지': 1, '한다quot': 1, '13': 1, '학부과별': 1, '홍보영상': 1, '공개': 1, '09': 1, '장신철': 1, '한국기술교육대': 1, '고용서비스정책학과장': 1, '“고용서비스는': 1, '기본적인': 1, '사회안전망전문인력': 1, '육성해야”': 1, '능력개발교육원': 2, '온라인평생교육원': 2, '직업능력심사평가원': 2, '산학협력단': 2, '2021학년도': 1, '제6회': 1, '독서토론대회': 1, '수상결과': 1, '발표': 1, '20211022': 4, '대학원교학팀': 1, '근로장학생': 1, '모집최고경영자과정': 1, '수업지원': 1, '1회': 1, '생협': 1, '학생식당': 1, '2학기': 1, '단기근로장학생': 1, '모집': 2, '대외협력팀': 1, '문화지원금': 1, '받고': 1, '외국인': 1, '친구랑': 1, '여행하자': 1, '10명': 1, '선착순': 1, '더보기': 3, '포토갤러리더보기': 1, '팝업존': 1, '재생정지': 1, '숫자로': 1, '보는': 1, '847': 1, '전국': 1, '4년제': 1, '취업률': 2, '출처': 3, '대학정보공시': 3, '졸업생': 1, '500명': 1, '이상': 1, '중앙일보': 2, '대학평가': 1, '교육중심대학11년연속': 1, '‘19년': 1, '평가': 1, '3296천원': 1, '장학금': 1, '수령액': 1, '2020년': 1, '기준': 1, 'Statistics': 1, '분포현황': 1, '자주찾는': 1, '서비스': 1, '학사종합서비스': 2, '온라인교육': 1, '학과안내': 1, 'SNS': 1, '페이스북': 1, '한국기술교육대학교KOREATECH님이': 1, '게시한': 1, '사진': 1, '20211014': 1, 'KOREATECH한국기술교육대학교': 1, 'Wings': 1, 'Magazine': 1, '2021년': 1, '10월호': 2, '20211015': 2, 'WingsMagazine': 1, '2021': 1, '하반기': 1, '황태현': 1, '한국기술교육대학교KOREATECH': 1, '20211018': 1, '네이버블로그': 1, '인스타그램': 1, '유튜브': 1, '디자인공학전공': 1, '건축공학전공': 1, '일반대학원': 1, '테크노인력개발전문대학원': 1, 'IT융합과학경영대학원': 1, '최고경영자과정': 1, '주요사이트': 1, '네이버': 1, '공식블로그': 1, '웹갤러리': 1, '청년워크넷': 1, '고용부': 1, '워크넷': 1, '잡코리아': 1, '사람인': 1, '인크루트': 1, '교내주요기관': 1, '다산정보관': 1, 'LINC사업단': 1, '생활협동조합': 1, '반도체': 1, '장비기술교육센터': 1, '상담진로개발센터': 1, 'IPP센터': 1, 'IPP포털': 2, '사회봉사센터': 1, '다담창의센터': 1, 'IPP·UniTech허브사업단': 1, '창업지원센터': 1, '듀얼공동훈련센터허브사업단': 1, '대학혁신사업단': 1, '교수학습센터': 1, '도제허브사업단': 1, '국제교육센터': 1, '학생자치단체': 1, '총학생회': 1, '코리아텍방송국': 1, '생활관자치회': 1, '대외유관기관': 1, '고용노동부': 1, '산업통상자원부': 1, '기획재정부': 1, '한국산업인력공단': 1, '한국폴리텍대학': 1, '한국교육개발원': 1, '한국노동연구원': 1, '한국고용노동교육원': 1, '근로복지공단': 1, '한국산업안전보건공단': 1, '한국고용정보원': 1, '한국직업능력개발원': 1, '한국장애인고용공단': 1, '충청남도청': 1, '천안시청': 1, '국민권익위원회': 1, '교육부': 1, 'NTIS': 1, '원격훈련심사센터': 1, '개인정보처리방침': 2, '이용약관': 1, '전화번호안내': 1, '오시는길': 1, 'TOP': 1, '서비스메뉴': 1, '이메일무단수집거부': 1, '윤리헌장': 1, '알리오': 1, '도로명주소안내': 1, '좌측내용': 1, '우측내용': 1, '31253': 1, '충청남도': 1, '천안시': 1, '동남구': 1, '병천면': 1, '충절로': 1, '1600': 1, '가전리': 1, 'TEL': 1, '0415601114': 1, 'FAX': 1, '02': 1, 'EMAIL': 1, 'interkoreatechackr': 1, 'Copyright': 1, 'ⓒ': 1, '2019': 1, 'All': 1, 'right': 1, 'reserved': 1}\n"
     ]
    }
   ],
   "source": [
    "import requests\n",
    "import string\n",
    "\n",
    "req = requests.get('https://www.koreatech.ac.kr')\n",
    "\n",
    "source = req.text\n",
    "\n",
    "stp = string.punctuation\n",
    "source = source.strip()\n",
    "string = ''\n",
    "#print(source)\n",
    "startRight = True\n",
    "clearedList = []\n",
    "for i in range( len(source)):\n",
    "    if (source[i] == '<' ):\n",
    "        startRight = False\n",
    "        continue\n",
    "    if ( source[i] == '>' and startRight == False):\n",
    "        startRight = True\n",
    "        continue\n",
    "    if (source[i] == '\\n' and startRight == True):\n",
    "        startRight = False\n",
    "        string += ' '\n",
    "        continue\n",
    "    if ( startRight == True ):\n",
    "        string += source[i]\n",
    "    \n",
    "clearedList = string.split()\n",
    "\n",
    "for i in range(len(clearedList)): # 구두문자\n",
    "    clearedList[i] = clearedList[i].strip()\n",
    "    clearedList[i]= clearedList[i].strip(stp)\n",
    "\n",
    "for i in range(len(clearedList)):\n",
    "    for j in stp:\n",
    "        while( j in clearedList[i]):\n",
    "            for k in range(len(clearedList[i])):\n",
    "                startRight = clearedList[i].find(j)\n",
    "                clearedList[i] = clearedList[i][:startRight] + clearedList[i][startRight+1:]\n",
    "                break\n",
    "\n",
    "a=0\n",
    "for i in clearedList:\n",
    "    if ( i == ''):\n",
    "        a+=1\n",
    "for i in range(a):\n",
    "    clearedList.remove('')\n",
    "    \n",
    "dic = dict()\n",
    "for i in clearedList:\n",
    "    dic[i] = 0\n",
    "for i in dic.keys():\n",
    "    for j in clearedList:\n",
    "        if ( j == i):\n",
    "            dic[i]+=1\n",
    "print(dic)"
   ]
  },
  {
   "cell_type": "code",
   "execution_count": 12,
   "id": "719a44b6",
   "metadata": {},
   "outputs": [
    {
     "name": "stdout",
     "output_type": "stream",
     "text": [
      "{'403': 1, 'Forbidden': 2, 'You': 1, 'dont': 1, 'have': 1, 'permission': 1, 'to': 1, 'access': 1, 'this': 1, 'resource': 1}\n"
     ]
    }
   ],
   "source": [
    "import requests\n",
    "import string\n",
    "\n",
    "req = requests.get('http://cse.koreatech.ac.kr')\n",
    "\n",
    "source = req.text\n",
    "\n",
    "stp = string.punctuation\n",
    "source = source.strip()\n",
    "string = ''\n",
    "#print(source)\n",
    "startRight = True\n",
    "clearedList = []\n",
    "for i in range( len(source)):\n",
    "    if (source[i] == '<' ):\n",
    "        startRight = False\n",
    "        continue\n",
    "    if ( source[i] == '>' and startRight == False):\n",
    "        startRight = True\n",
    "        continue\n",
    "    if (source[i] == '\\n' and startRight == True):\n",
    "        startRight = False\n",
    "        string += ' '\n",
    "        continue\n",
    "    if ( startRight == True ):\n",
    "        string += source[i]\n",
    "    \n",
    "clearedList = string.split()\n",
    "\n",
    "for i in range(len(clearedList)): # 구두문자\n",
    "    clearedList[i] = clearedList[i].strip()\n",
    "    clearedList[i]= clearedList[i].strip(stp)\n",
    "\n",
    "for i in range(len(clearedList)):\n",
    "    for j in stp:\n",
    "        while( j in clearedList[i]):\n",
    "            for k in range(len(clearedList[i])):\n",
    "                startRight = clearedList[i].find(j)\n",
    "                clearedList[i] = clearedList[i][:startRight] + clearedList[i][startRight+1:]\n",
    "                break\n",
    "\n",
    "a=0\n",
    "for i in clearedList:\n",
    "    if ( i == ''):\n",
    "        a+=1\n",
    "for i in range(a):\n",
    "    clearedList.remove('')\n",
    "    \n",
    "dic = dict()\n",
    "for i in clearedList:\n",
    "    dic[i] = 0\n",
    "for i in dic.keys():\n",
    "    for j in clearedList:\n",
    "        if ( j == i):\n",
    "            dic[i]+=1\n",
    "print(dic)"
   ]
  },
  {
   "cell_type": "markdown",
   "id": "a62c20db",
   "metadata": {},
   "source": [
    "### 저번에 했던 incremental project 1에서 구두문자와 공백을 삭제한 후 사전자료형 형태로 나타내주고 key가 겹칠 경우 value 값을 하나씩 더해주었다."
   ]
  },
  {
   "cell_type": "markdown",
   "id": "3014c69e",
   "metadata": {},
   "source": [
    "## 느낀점 : 고민해야할 문제가 꽤 있었고, 처음엔 바로바로 이해가 가지 않는 문제도 있었지만, 이번 과제를 통해서 파이썬의 리스트, 튜플, 사전, 집합 자료형 들의 인덱싱, 슬라이싱 등을 꽤 능숙해져서 뿌듯하며, 리스트함축도 처음에는 쉬우면서도 잘 되지 않았지만, 감이 잡힌 것 같다."
   ]
  },
  {
   "cell_type": "code",
   "execution_count": null,
   "id": "5f7ecf7f",
   "metadata": {},
   "outputs": [],
   "source": []
  }
 ],
 "metadata": {
  "kernelspec": {
   "display_name": "Python 3",
   "language": "python",
   "name": "python3"
  },
  "language_info": {
   "codemirror_mode": {
    "name": "ipython",
    "version": 3
   },
   "file_extension": ".py",
   "mimetype": "text/x-python",
   "name": "python",
   "nbconvert_exporter": "python",
   "pygments_lexer": "ipython3",
   "version": "3.8.8"
  }
 },
 "nbformat": 4,
 "nbformat_minor": 5
}
