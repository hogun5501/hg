{
 "cells": [
  {
   "cell_type": "markdown",
   "id": "7a07948b",
   "metadata": {},
   "source": [
    "## 스크립트 프로그래밍 과제 5"
   ]
  },
  {
   "cell_type": "markdown",
   "id": "ed29efcd",
   "metadata": {},
   "source": [
    "### 2018136105 이호건"
   ]
  },
  {
   "cell_type": "markdown",
   "id": "eec00854",
   "metadata": {},
   "source": [
    "### 1. 클래스와 모듈의 공통점과 차이점에 대해 설명하시오."
   ]
  },
  {
   "cell_type": "markdown",
   "id": "2254ee63",
   "metadata": {},
   "source": [
    "### 공통점 : 둘다 이름공간을 구성한다.\n",
    "### 차이점 : 모듈은 파일단위로 이름공간을 구성하며 클래스는 클래스영역내에 이름공간을 구성한다. \n",
    "### 또한 클래스는 붕어빵틀의 역활로, 붕어빵(=개체)를 만들수 있다."
   ]
  },
  {
   "cell_type": "markdown",
   "id": "e8f76535",
   "metadata": {},
   "source": [
    "### 2. 다형성에 대해 설명하고 다형성을 보여주는 자신만의 파이썬 코드 예제를 제시하시오."
   ]
  },
  {
   "cell_type": "code",
   "execution_count": 7,
   "id": "0c40918c",
   "metadata": {},
   "outputs": [
    {
     "name": "stdout",
     "output_type": "stream",
     "text": [
      "버즈\n",
      "에어팟\n",
      "에어팟프로\n",
      "정의되지 않은 name 통제\n"
     ]
    }
   ],
   "source": [
    "class Earphone:\n",
    "    def name(self):\n",
    "        print(\"정의되지 않은 name 통제\")\n",
    "\n",
    "class Budz(Earphone):\n",
    "    def name(self):\n",
    "        print('버즈')\n",
    "class Airpod(Earphone):\n",
    "    def name(self):\n",
    "        print('에어팟')\n",
    "class AirpodPro(Earphone):\n",
    "    def name(self):\n",
    "        print ('에어팟프로')\n",
    "class QCY(Earphone):\n",
    "    pass\n",
    "for earphone in (Budz(), Airpod(), AirpodPro(), QCY()):\n",
    "    earphone.name()"
   ]
  },
  {
   "cell_type": "markdown",
   "id": "e3d12a65",
   "metadata": {},
   "source": [
    "### Earphone 클래스와 이를 상속받는 다른 클래스들을 만들어서 name함수를 재정의해주고 원하는 값을 출력하도록 넣어주었다."
   ]
  },
  {
   "cell_type": "markdown",
   "id": "816545cf",
   "metadata": {},
   "source": [
    "### 3. 다음 각 요구사항 모두를 만족시키는 Counter 클래스를 코딩하시오 (정답을 각 요구사항별로 입력할 필요 없이 3번 문제에 대해 1개의 클래스 정의 코드를 제시하면 된다.)"
   ]
  },
  {
   "cell_type": "code",
   "execution_count": 13,
   "id": "b779eff4",
   "metadata": {},
   "outputs": [],
   "source": [
    "class Counter():\n",
    "    \n",
    "    def __init__(self, count=1, step=1): # 생성자\n",
    "        self.count = count\n",
    "        self.step = step\n",
    "    \n",
    "    def __str__(self): #[Count (step: 1)] 10 print할때 나옴\n",
    "        return \"[Count (step: %d)] %d\" % (self.step, self.count)\n",
    "    def incr(self):\n",
    "        self.count += self.step\n",
    "    def __call__(self):\n",
    "        self.incr()\n",
    "    def __add__(self, other):\n",
    "        self.count += other\n",
    "        return self.count\n",
    "    def __sub__(self, other):\n",
    "        self.count -= other\n",
    "        return self.count\n",
    "    def __cmp__(self, other):\n",
    "        if self.count < other.count:\n",
    "            return -1\n",
    "        elif self.count > other.count:\n",
    "            return 1\n",
    "        else:\n",
    "            return 0"
   ]
  },
  {
   "cell_type": "code",
   "execution_count": 9,
   "id": "18587355",
   "metadata": {},
   "outputs": [],
   "source": [
    "c = Counter(10)\n",
    "d = Counter(10, 2)"
   ]
  },
  {
   "cell_type": "code",
   "execution_count": 11,
   "id": "383ad530",
   "metadata": {},
   "outputs": [
    {
     "name": "stdout",
     "output_type": "stream",
     "text": [
      "[Count (step: 1)] 10\n",
      "[Count (step: 2)] 10\n"
     ]
    }
   ],
   "source": [
    "print(c)\n",
    "print(d)"
   ]
  },
  {
   "cell_type": "code",
   "execution_count": 12,
   "id": "efaad506",
   "metadata": {},
   "outputs": [
    {
     "name": "stdout",
     "output_type": "stream",
     "text": [
      "[Count (step: 1)] 11\n",
      "[Count (step: 2)] 12\n"
     ]
    }
   ],
   "source": [
    "c.incr()\n",
    "d.incr()\n",
    "print(c)\n",
    "print(d)"
   ]
  },
  {
   "cell_type": "code",
   "execution_count": 14,
   "id": "173246df",
   "metadata": {},
   "outputs": [
    {
     "name": "stdout",
     "output_type": "stream",
     "text": [
      "[Count (step: 1)] 12\n",
      "[Count (step: 2)] 14\n"
     ]
    }
   ],
   "source": [
    "c()\n",
    "d()\n",
    "print(c)\n",
    "print(d)"
   ]
  },
  {
   "cell_type": "code",
   "execution_count": 16,
   "id": "607b7d10",
   "metadata": {},
   "outputs": [
    {
     "name": "stdout",
     "output_type": "stream",
     "text": [
      "17\n",
      "9\n"
     ]
    }
   ],
   "source": [
    "c = c + 5\n",
    "print(c)\n",
    "d = d - 5\n",
    "print(d)"
   ]
  },
  {
   "cell_type": "code",
   "execution_count": 17,
   "id": "4b8500bd",
   "metadata": {},
   "outputs": [
    {
     "name": "stdout",
     "output_type": "stream",
     "text": [
      "True\n",
      "False\n",
      "False\n",
      "True\n",
      "True\n",
      "False\n"
     ]
    }
   ],
   "source": [
    "print(c > 10)\n",
    "print(d > 10)\n",
    "print(c < 10)\n",
    "print(d < 10)\n",
    "print(c == 17)\n",
    "print(d != 9)"
   ]
  },
  {
   "cell_type": "markdown",
   "id": "d4272037",
   "metadata": {},
   "source": [
    "### 요구사항에 대한 메서드를 만들고 이를 실행했다. 생성자를 사용하여 default 값을 1로 정의해주었다."
   ]
  },
  {
   "cell_type": "markdown",
   "id": "0bad5616",
   "metadata": {},
   "source": [
    "### 4. 다음은 내장 자료형 list를 서브클래싱하여 만든 MySet 클래스 정의 내용이다. 다음 클래스 정의에서 __init__(), __str()__(), elimicate_duplicate()의 세 개의 메소드 코드 내용을 자신이 다른 사람에게 가르친다고 생각하며 설명해보시오."
   ]
  },
  {
   "cell_type": "code",
   "execution_count": 22,
   "id": "668e9890",
   "metadata": {},
   "outputs": [
    {
     "name": "stdout",
     "output_type": "stream",
     "text": [
      "MySet: {1 ,2 ,3}\n",
      "MySet: {2 ,3 ,4 ,5 ,6 ,7 ,8 ,9}\n"
     ]
    }
   ],
   "source": [
    "class MySet(list):\n",
    "    def __init__(self, l):\n",
    "        for e in l:\n",
    "            self.append(e)\n",
    "        MySet.eliminate_duplicate(self)\n",
    "    \n",
    "    def __str__(self):\n",
    "        result = \"MySet: {\"\n",
    "        for e in self:\n",
    "            result = result + str(e) + \" ,\"\n",
    "        result = result[0:len(result)-2] + \"}\"\n",
    "        return result\n",
    "\n",
    "    @staticmethod    \n",
    "    def eliminate_duplicate(l):\n",
    "        s = []\n",
    "        for e in l:\n",
    "            if e not in s:\n",
    "                s.append(e)\n",
    "        l[:] = []\n",
    "        for e in s:\n",
    "            l.append(e)\n",
    "\n",
    "    \n",
    "if __name__ == \"__main__\":\n",
    "    s = MySet([1, 2, 2, 3])\n",
    "    print(s)\n",
    "    t = MySet([2, 3, 4, 5, 6, 7, 8, 8, 8, 8, 8, 9])\n",
    "    print(t)"
   ]
  },
  {
   "cell_type": "markdown",
   "id": "a3eb997f",
   "metadata": {},
   "source": [
    "### init 생성자 \n",
    "##### list를 받아서. self.로 추가해주고 self리스트를 eliminate_duplicate함수의 인자값으로 전달한다.\n",
    "\n",
    "### __eilminate_duplicate\n",
    "##### self.리스트를 받아서 기존에 있는 것인지 비교하여, 없을경우 s.append한다. 이후 l[:] = [] l리스트를 빈 리스트로 만들고 겹치지않는 리스트만 l에 다시 담아준다.\n",
    "\n",
    "### str\n",
    "##### result에 MySet: {을 담고 self.리스트에 담긴 문자를 넣고 ,나 필요없는공백을 없애기위해 result[0:len(result)-2] 등을 해준다.이후 return을 통해서 최종 result 값을 반환해준다."
   ]
  },
  {
   "cell_type": "markdown",
   "id": "c1fb7ca1",
   "metadata": {},
   "source": [
    "### 5. 4번 문제에 정의된 MySet 클래스에 메소드를 추가하여 다음 각 요구사항 모두를 만족시키는 코딩을 제시하시오. 정답을 각 요구사항별로 입력할 필요 없이 요구사항 3개 전체에 대해 1개의 MySet 클래스 정의 코드를 제시하고 주석등으로 해당 코드를 설명한다."
   ]
  },
  {
   "cell_type": "code",
   "execution_count": 25,
   "id": "e6def3eb",
   "metadata": {},
   "outputs": [
    {
     "name": "stdout",
     "output_type": "stream",
     "text": [
      "MySet: {1 ,2 ,3}\n",
      "MySet: {2 ,3 ,4 ,5 ,6 ,7 ,8 ,9}\n",
      "MySet: {1 ,2 ,3 ,4 ,5 ,6 ,7 ,8 ,9}\n",
      "MySet: {2 ,3}\n",
      "MySet: {1 ,2}\n"
     ]
    }
   ],
   "source": [
    "class MySet(list):\n",
    "    def __init__(self, l):\n",
    "        for e in l:\n",
    "            self.append(e)\n",
    "        MySet.eliminate_duplicate(self)\n",
    "    \n",
    "    def __str__(self):\n",
    "        result = \"MySet: {\"\n",
    "        for e in self:\n",
    "            result = result + str(e) + \" ,\"\n",
    "        result = result[0:len(result)-2] + \"}\"\n",
    "        return result\n",
    "\n",
    "    @staticmethod    \n",
    "    def eliminate_duplicate(l):\n",
    "        s = []\n",
    "        for e in l:\n",
    "            if e not in s:\n",
    "                s.append(e)\n",
    "        l[:] = []\n",
    "        for e in s:\n",
    "            l.append(e)\n",
    "            \n",
    "    def __or__(self, l): # set집합을 사용하여 합집합 =|연산자를 재정의하였다.\n",
    "        self = set(self)\n",
    "        l = set(l)\n",
    "        self = self|l\n",
    "        self = list(self)\n",
    "        result = \"MySet: {\" \n",
    "        for e in self:\n",
    "            result = result + str(e) + \" ,\"\n",
    "        result = result[0:len(result)-2] + \"}\"\n",
    "        return result\n",
    "    \n",
    "    def __and__(self, l): # 마찬가지로 set집합을 사용하여 교집합 =&연산자를 재정의하였다.\n",
    "        self = set(self)\n",
    "        l = set(l)\n",
    "        self = self&l\n",
    "        self = list(self)\n",
    "        result = \"MySet: {\"\n",
    "        for e in self:\n",
    "            result = result + str(e) + \" ,\"\n",
    "        result = result[0:len(result)-2] + \"}\"\n",
    "        return result\n",
    "\n",
    "    def __sub__(self, l): # 마찬가지로 set을사용하여 차집합 = -연산자재정의를 하였다.\n",
    "        self = set(self)\n",
    "        l = set(l)\n",
    "        self = self-l\n",
    "        self = list(self)\n",
    "        result = \"MySet: {\"\n",
    "        for e in self:\n",
    "            result = result + str(e) + \" ,\"\n",
    "        result = result[0:len(result)-2] + \"}\"\n",
    "        return result\n",
    "    \n",
    "if __name__ == \"__main__\":\n",
    "    s = MySet([1, 2, 2, 3])\n",
    "    print(s)\n",
    "    t = MySet([2, 3, 4, 5, 6, 7, 8, 8, 8, 8, 8, 9])\n",
    "    print(t)\n",
    "    u = s|t\n",
    "    print(u)\n",
    "    u = s&t\n",
    "    print(u)\n",
    "    s = MySet([1, 2, 3])\n",
    "    t = MySet([3, 4, 5])\n",
    "    u = s-t\n",
    "    print(u)"
   ]
  },
  {
   "cell_type": "markdown",
   "id": "aeb58608",
   "metadata": {},
   "source": [
    "### 6. 5번 문제에서 정의한 MySet 클래스에 대해 다음 예제를 수행하면 오류없이 올바르게 동작하는 것을 확인할 수 있다. 다음 예제 내에 있는 len(), bool() 내장함수와 in 키워드 사용 예제가 별다른 메소드 정의를 하지 않았는 데도 올바르게 수행되는 이유를 설명하시오."
   ]
  },
  {
   "cell_type": "markdown",
   "id": "e3d5e562",
   "metadata": {},
   "source": [
    "### 이는 len(), bool()이 기본으로 내장하고 있는 함수이기 때문이다. "
   ]
  },
  {
   "cell_type": "markdown",
   "id": "a95cc554",
   "metadata": {},
   "source": [
    "### 소감 : incremental 프로젝트를 잘 수행하지 못했지만 마지막 과제를 마치게 되어 좋았다. 파이썬을 수업ㅇ"
   ]
  }
 ],
 "metadata": {
  "kernelspec": {
   "display_name": "Python 3",
   "language": "python",
   "name": "python3"
  },
  "language_info": {
   "codemirror_mode": {
    "name": "ipython",
    "version": 3
   },
   "file_extension": ".py",
   "mimetype": "text/x-python",
   "name": "python",
   "nbconvert_exporter": "python",
   "pygments_lexer": "ipython3",
   "version": "3.8.8"
  }
 },
 "nbformat": 4,
 "nbformat_minor": 5
}
