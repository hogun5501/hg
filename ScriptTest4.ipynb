{
 "cells": [
  {
   "cell_type": "markdown",
   "id": "0b2cc78a",
   "metadata": {},
   "source": [
    "## 2018136105_이호건 스크립트 프로그래밍_04"
   ]
  },
  {
   "cell_type": "markdown",
   "id": "2c6496a7",
   "metadata": {},
   "source": [
    "### 1.다음 문제를 읽고 알맞은 코드를 제시하시오."
   ]
  },
  {
   "cell_type": "markdown",
   "id": "1d5406a1",
   "metadata": {},
   "source": [
    "### 1) 파일 s.txt 내의 다음 내용과 함께 아래 문제의 코드를 제시하시오."
   ]
  },
  {
   "cell_type": "code",
   "execution_count": 2,
   "id": "7cbc762f",
   "metadata": {},
   "outputs": [],
   "source": [
    "f = open('s.txt','w')\n",
    "s = ['pig ham', 'cat dog', 'ham bird', 'dog pig']\n",
    "for i in (s):\n",
    "    f.write(i)\n",
    "    f.write('\\n')\n",
    "f.close()\n",
    "\n"
   ]
  },
  {
   "cell_type": "markdown",
   "id": "7b63f82e",
   "metadata": {},
   "source": [
    "### 주어진 요소를 저장하여 파일에 저장하였다."
   ]
  },
  {
   "cell_type": "markdown",
   "id": "713a2f84",
   "metadata": {},
   "source": [
    "### 2) 파일 s.txt을 읽어서 각 라인에 있는 첫 번째 단어(문자열) 자체들을 기준으로 라인별 정렬후 파일 s1.txt에 그 결과를 기록하는 코드를 작성하시오. 즉, 프로그램 수행 후 s1.txt에 있는 파일 내용은 다음과 같다."
   ]
  },
  {
   "cell_type": "code",
   "execution_count": 4,
   "id": "09a86771",
   "metadata": {},
   "outputs": [],
   "source": [
    "f = open('s.txt', 'r')\n",
    "f2 = open('s1.txt','w')\n",
    "s = f.read()\n",
    "f.close()\n",
    "s = s.split('\\n')\n",
    "s.remove('')\n",
    "for i in sorted(s):\n",
    "    f2.write(i)\n",
    "    f2.write('\\n')\n",
    "f2.close()"
   ]
  },
  {
   "cell_type": "markdown",
   "id": "11791265",
   "metadata": {},
   "source": [
    "### 저장된 내용을 문자열로 다 받아온 후 개행을 기준으로 리스트로 만든다. 공백을 제거해준 뒤 반복문의 i값을 sorted를 통해 주어준 뒤 저장한다"
   ]
  },
  {
   "cell_type": "markdown",
   "id": "6d5963d6",
   "metadata": {},
   "source": [
    "### 3) 파일 s.txt을 읽어서 각 라인에 있는 두 번째 단어(문자열) 자체들을 기준으로 라인별 정렬후 파일 s2.txt에 그 결과를 기록하는 코드를 작성하시오. 즉, 프로그램 수행 후 s2.txt에 있는 파일 내용은 다음과 같다."
   ]
  },
  {
   "cell_type": "code",
   "execution_count": 5,
   "id": "38341a66",
   "metadata": {},
   "outputs": [],
   "source": [
    "def mycmp(n):\n",
    "    return n[1]\n",
    "f = open('s.txt', 'r')\n",
    "f2 = open('s2.txt','w')\n",
    "s = f.read()\n",
    "f.close()\n",
    "s = s.split('\\n')\n",
    "s.remove('')\n",
    "for i in sorted(s, key = mycmp):\n",
    "    f2.write(i)\n",
    "    f2.write('\\n')\n",
    "f2.close()"
   ]
  },
  {
   "cell_type": "markdown",
   "id": "dc753570",
   "metadata": {},
   "source": [
    "### mycmp를 정의하여 조건을 첫번째원소에서 두번째 원소로 바꾸어 저장하였다."
   ]
  },
  {
   "cell_type": "markdown",
   "id": "3edde703",
   "metadata": {},
   "source": [
    "### 4) 파일 s.txt을 읽어서 각 라인들에 있는 모든 단어들을 순차적으로 다시 나열하되 각 라인에 세 개의 단어들이 오도록 하여 s3.txt에 기록하는 코드를 작성하시오. 즉, 프로그램 수행 후 s3.txt에 있는 파일 내용은 다음과 같다."
   ]
  },
  {
   "cell_type": "code",
   "execution_count": 10,
   "id": "11b772a6",
   "metadata": {},
   "outputs": [],
   "source": [
    "count = 0\n",
    "\n",
    "f = open('s.txt','r')\n",
    "f2 = open('s3.txt','w')\n",
    "\n",
    "s = f.read()\n",
    "s = s.replace('\\n',' ')\n",
    "s = s.split(' ')\n",
    "\n",
    "for i in s:\n",
    "    count += 1\n",
    "    f2.write(i)\n",
    "    f2.write(' ')\n",
    "    if ( count == 3):\n",
    "        count = 0\n",
    "        f2.write('\\n')\n",
    "    \n",
    "    \n",
    "f.close()\n",
    "f2.close()"
   ]
  },
  {
   "cell_type": "markdown",
   "id": "857e9c28",
   "metadata": {},
   "source": [
    "### 저장된 내용을 문자열로 받아온 후 위와 같이 리스트로 만든다. 반복문을 돌려서 공백을 기준으로 나누어 저장하고 카운트가3이 되면 0으로 초기화해주고 '\\n'을 넣어준다."
   ]
  },
  {
   "cell_type": "markdown",
   "id": "9d4ba4a8",
   "metadata": {},
   "source": [
    "### 2. 다음과 같은 조건들을 참고하여 회원 가입 및 로그인 프로그램을 작성하시오.\n",
    "### 1) 프로그램 시작 후 다음과 같은 메시지가 출력되어 1, 2, 3 중 하나의 값을 입력 받도록 한다.\n",
    "### 2) 1을 선택하면 ID, Password, Name, School의 4가지 정보를 입력받아 파일에 저장하는 프로그램을 작성한다.\n",
    "### 3) 2를 선택하면 ID, Password의 2가지 정보를 입력받는 프로그램을 작성한다.\n",
    "### 4)  3을 선택하면 프로그램이 끝난다."
   ]
  },
  {
   "cell_type": "code",
   "execution_count": null,
   "id": "ade08be2",
   "metadata": {},
   "outputs": [],
   "source": [
    "import hashlib\n",
    "\n",
    "def hash_password(password):\n",
    "    return hashlib.sha1(password.encode()).hexdigest()\n",
    "\n",
    "def check_id(id_test, ids):\n",
    "    for i in id_test:\n",
    "        num1 = i.find('[')\n",
    "        num2 = i.find(']')\n",
    "        if ( ids == i[num1+1:num2]):\n",
    "            return True\n",
    "    return False\n",
    "\n",
    "def check_password(id_test, ids):\n",
    "    for i in id_test:\n",
    "        ids = hash_password(ids)\n",
    "        num1 = i.find('[')\n",
    "        num2 = i.find(']')\n",
    "        num3 = i.find('[',num1+1)\n",
    "        num4 = i.find(']',num2+1)\n",
    "        if ( ids == i[num3+1:num4]):\n",
    "            num5 = i.find('[',num3+1)\n",
    "            num6 = i.find(']',num4+1)\n",
    "            return i[num5:num6+1]\n",
    "    return False\n",
    "print ('Welcome to Our Service \\n1.Sign Up \\n2.Sign In\\n3.Quit')\n",
    "select = int(input())\n",
    "if ( select == 1):\n",
    "    s = '[]:[],[],[]'\n",
    "    \n",
    "    f = open('access.txt','r')\n",
    "    id_test = f.read()\n",
    "    f.close()\n",
    "    id_test = id_test.split('\\n')\n",
    "    while(1):\n",
    "        print('enter id')\n",
    "        ids = input()\n",
    "        if ( check_id(id_test, ids)):\n",
    "            print('Sorry, you are not a registered member')\n",
    "        else:\n",
    "            break\n",
    "                \n",
    "    print(\"Enter Password\")\n",
    "    password_plain = input()\n",
    "    password_encrypted = hash_password(password_plain)\n",
    "\n",
    "    print ('Enter Name')\n",
    "    name= input()\n",
    "    print ('Enter School')\n",
    "    school = input()\n",
    "    \n",
    "    s = s[0:1] + ids + s[1:4] + password_encrypted + s[4:7] + name + s[7:10] + school + s[10:]\n",
    "    f = open('access.txt','a')\n",
    "    f.write(s)\n",
    "    f.write('\\n')\n",
    "    f.close()\n",
    "        \n",
    "if ( select == 2 ):\n",
    "    f = open('access.txt','r')\n",
    "    id_test = f.read()\n",
    "    f.close()\n",
    "    id_test = id_test.split('\\n')\n",
    "    while(1):\n",
    "        print('enter id')\n",
    "        ids = input()\n",
    "        if ( not check_id(id_test, ids) ):\n",
    "            print('Sorry, you are not a registered member.')\n",
    "        else:\n",
    "            break\n",
    "    while(1):\n",
    "        print('enter password')\n",
    "        ids = input()\n",
    "        if ( not check_password( id_test, ids) ):\n",
    "            print('Sorry, the entered password is not correct')\n",
    "        else:\n",
    "            print( 'hello '+check_password(id_test, ids) +'!')\n",
    "            break\n",
    "            \n",
    "if ( select == 3 ):\n",
    "        exit(1)\n"
   ]
  },
  {
   "cell_type": "markdown",
   "id": "c5e24bf6",
   "metadata": {},
   "source": [
    "### 만약 1번을 고르고 아이디가 중복일 경우에는 무한루프를 돌다가 아이디가 중복이 아닌 경우에 빠져 나와 비밀번호를 받는다. 그후 4가지의 정보를 받아서 파일에 저장한다. 2번을 골랐을 때는 아이디를 검사하여 중복이 아닐 경우 무한루프를 돌며 입력을받다가 중복인 경우 빠져나와 비밀번호로 넘어간다. 입력받은 비밀번호가 정확할 때 까지 반복이된다. 만약 맞는 입력이 된 경우 양식에 맞게 내용이 출력한다. 3번의 경우 나간다. "
   ]
  },
  {
   "cell_type": "markdown",
   "id": "9fe2447c",
   "metadata": {},
   "source": [
    "### 3. range() 함수와 유사한 frange() 함수를 다음 조건을 참고하여 만드시오.\n",
    "### 1) frange()의 인자 구성은 다음과 같이 range와 동일하지만 각 인수들은 음수를 받지 않는다고 가정한다.\n",
    "### 2) frange() 함수의 인자에 대한 기본 시작(start) 값은 0.0이고, 기본 단계(step) 값은 0.1이다.\n",
    "### 3) frange 사용 예\n",
    "##### 3-1) frange(0.5)\n",
    "##### [0.0, 0.1, 0.2, 0.3, 0.4]\n",
    "##### 3-2) frange(1.0, 2.0)\n",
    "##### [1.0, 1.1, 1.2, 1.3, 1.4, 1.5, 1.6, 1.7, 1.8, 1.9]\n",
    "##### 3-3) frange(2.2, 4.0, 0.5)\n",
    "##### [2.2, 2.7, 3.2, 3.7]"
   ]
  },
  {
   "cell_type": "code",
   "execution_count": 33,
   "id": "62f82858",
   "metadata": {},
   "outputs": [
    {
     "name": "stdout",
     "output_type": "stream",
     "text": [
      "error\n",
      "None\n",
      "\n",
      "[0.0, 0.1, 0.2, 0.3, 0.4, 0.5]\n",
      "\n",
      "[1.0, 1.1, 1.2, 1.3, 1.4, 1.5, 1.6, 1.7, 1.8, 1.9]\n",
      "\n",
      "[2.2, 2.7, 3.2, 3.7]\n"
     ]
    }
   ],
   "source": [
    "def frange(*value):\n",
    "    lst = []\n",
    "    for i in value:\n",
    "        if ( i < 0):\n",
    "            print(\"error\")\n",
    "            return\n",
    "    \n",
    "    if ( len(value) == 1):\n",
    "        start = 0.0\n",
    "        stop = value[0]\n",
    "        step = 0.1\n",
    "        \n",
    "        while (1):\n",
    "            s = \"%.1f\" % start\n",
    "            lst.append(float(s))\n",
    "            start += step\n",
    "            if ( start > stop ):\n",
    "                return lst\n",
    "            \n",
    "    if ( len(value) == 2):\n",
    "        start = value[0]\n",
    "        stop = value[1]\n",
    "        step = 0.1\n",
    "        \n",
    "        while (1):\n",
    "            s = \"%.1f\" % start\n",
    "            lst.append(float(s))\n",
    "            start += step\n",
    "            if ( start > stop ):\n",
    "                return lst\n",
    "            \n",
    "    if ( len(value) == 3 ):\n",
    "        start = value[0]\n",
    "        stop = value[1]\n",
    "        step = value[2]\n",
    "        \n",
    "        while (1):\n",
    "            s = \"%.1f\" % start\n",
    "            lst.append(float(s))\n",
    "            start += step\n",
    "            if ( start > stop ):\n",
    "                return lst\n",
    "    else:\n",
    "        print(\"error\")\n",
    "        return None\n",
    "    \n",
    "print (frange(-1))\n",
    "print()\n",
    "print (frange (0.5))\n",
    "print()\n",
    "print (frange (1.0, 2.0))\n",
    "print()\n",
    "print (frange(2.2,4.0,0.5))"
   ]
  },
  {
   "cell_type": "markdown",
   "id": "2e48a8fd",
   "metadata": {},
   "source": [
    "### frange함수를 가변인수를 사용하여 각각의 케이스에 따라 정의하였다. 먼저 인수중 음수가있으면 에러, 하나라면 stop에 넣어주고 나머지는 약속된 디폴트값처럼 처리하였다. 두개일 경우에는 start와 stop에 순서대로 넣고, 3개일 경우에는 start stop step에 값을 넣어준다. 이외의 경우 에러로 하였다. "
   ]
  },
  {
   "cell_type": "markdown",
   "id": "2c7d97b2",
   "metadata": {},
   "source": [
    "### 4. 가변인수를 받는 함수 sum()을 다음과 같은 조건을 참고하여 구현하시오"
   ]
  },
  {
   "cell_type": "code",
   "execution_count": 5,
   "id": "34442e5e",
   "metadata": {},
   "outputs": [
    {
     "name": "stdout",
     "output_type": "stream",
     "text": [
      "0\n",
      "3\n",
      "15\n",
      "5\n"
     ]
    }
   ],
   "source": [
    "def sum(*values):\n",
    "    lst = []\n",
    "    count = 0\n",
    "    for i in values:\n",
    "       count += i \n",
    "    return count\n",
    "\n",
    "\n",
    "print(sum())\n",
    "print(sum(1, 2))\n",
    "print(sum(1, 2, 3, 4, 5))\n",
    "print(sum(1, 5, 7, 2, -10))"
   ]
  },
  {
   "cell_type": "markdown",
   "id": "52f0477f",
   "metadata": {},
   "source": [
    "### 가변인수 values에 값을 받아주고 반환해줄 count 변수를 선언하여 반복문으로 쭉 더하고 반환한다."
   ]
  },
  {
   "cell_type": "markdown",
   "id": "78f0659a",
   "metadata": {},
   "source": [
    "### 5. 여러 단어로 이루어진 문자열을 입력받아 각 단어의 첫글자로 이루어진 단어를 대문자로 출력하는 myinitial() 함수를 다음 조건을 참고하여 작성하시오.\n",
    "### 1) 다음에 제시되는 함수들을 모두 이용해야 한다.\n",
    "##### split\n",
    "##### map\n",
    "##### join\n",
    "### 2) myinitial() 함수 사용 예\n",
    "##### myinitial(\"as soon as possible\")\n",
    "##### ASAP\n"
   ]
  },
  {
   "cell_type": "code",
   "execution_count": 3,
   "id": "48aa2bde",
   "metadata": {},
   "outputs": [
    {
     "name": "stdout",
     "output_type": "stream",
     "text": [
      "ASAP\n"
     ]
    }
   ],
   "source": [
    "def myinitial(s):\n",
    "    s = s.upper()\n",
    "    s = s.split(' ')\n",
    "    def mymap(s):\n",
    "        return s[0]\n",
    "    s = list(map(mymap,s))\n",
    "    s = \"\".join(s)\n",
    "    return s\n",
    "print( myinitial('as soon as possible'))\n",
    "        "
   ]
  },
  {
   "cell_type": "markdown",
   "id": "f666cb7e",
   "metadata": {},
   "source": [
    "### 문자열을 받아서 모두 대문자로 바꿔준다. 그 후 공백을 기준으로 리스트로 만들어준다. mymap 함수를 선언하여 리스트의 원소를 주었을 때 그 원소의 첫번째 인덱스값을 반환하도록 만들어준다. 그다음 join 메소드를 이용하여 문자열로 합쳐주고 반환해준다."
   ]
  },
  {
   "cell_type": "markdown",
   "id": "8fe6e960",
   "metadata": {},
   "source": [
    "### 6.음이 아닌 정수 n를 입력받으면 n! (factorial)을 계산하는 myfact() 함수를 재귀적 함수로 구현하시오."
   ]
  },
  {
   "cell_type": "code",
   "execution_count": 2,
   "id": "2403cd14",
   "metadata": {},
   "outputs": [
    {
     "name": "stdout",
     "output_type": "stream",
     "text": [
      "6\n",
      "1\n",
      "False\n",
      "1220136825991110068701238785423046926253574342803192842192413588385845373153881997605496447502203281863013616477148203584163378722078177200480785205159329285477907571939330603772960859086270429174547882424912726344305670173270769461062802310452644218878789465754777149863494367781037644274033827365397471386477878495438489595537537990423241061271326984327745715546309977202781014561081188373709531016356324432987029563896628911658974769572087926928871281780070265174507768410719624390394322536422605234945850129918571501248706961568141625359056693423813008856249246891564126775654481886506593847951775360894005745238940335798476363944905313062323749066445048824665075946735862074637925184200459369692981022263971952597190945217823331756934581508552332820762820023402626907898342451712006207714640979456116127629145951237229913340169552363850942885592018727433795173014586357570828355780158735432768888680120399882384702151467605445407663535984174430480128938313896881639487469658817504506926365338175055478128640000000000000000000000000000000000000000000000000000000000000000000000000000000000000000000000000000000000000000000000000000\n"
     ]
    }
   ],
   "source": [
    "def myfact(n):\n",
    "    if (n < 0):\n",
    "        return False\n",
    "    \n",
    "    if ( n == 1):\n",
    "        return 1\n",
    "    \n",
    "    else:\n",
    "        return n*myfact(n-1)\n",
    "    \n",
    "print(myfact(3))\n",
    "print(myfact(1))\n",
    "print(myfact(-1))\n",
    "print(myfact(500))"
   ]
  },
  {
   "cell_type": "markdown",
   "id": "35764694",
   "metadata": {},
   "source": [
    "### 재귀적으로 함수를 호출하는 방법을 사용하여 팩토리얼 함수를 만들었다. "
   ]
  },
  {
   "cell_type": "markdown",
   "id": "78f711d8",
   "metadata": {},
   "source": [
    "### 7. (서술형) import string 과 from string import * 의 차이점을 설명하시오."
   ]
  },
  {
   "cell_type": "markdown",
   "id": "02b6ccd6",
   "metadata": {},
   "source": [
    "##### import string은 string.*형식으로 메소드를 사용하고, from string import * 은 해당 모듈에 존재하는 것들을 모두 현재 이름공간으로 불러드리기 때문에 모듈 이름을 붙일 필요 없이 사용 가능하다."
   ]
  },
  {
   "cell_type": "markdown",
   "id": "be229c9f",
   "metadata": {},
   "source": [
    "### 8. 이전 Assignment 3의 마지막 문제는 웹 URL로 지정된 웹페이지를 문자열로 가져와 모든 HTML 태그 및 CSS와 Javascript를 제외한 순수 텍스트를 얻어내고 그 안에 존재하는 단어를 추출하여 각 단어들에 대해 출현빈도를 사전형태({'world': 2, 'hello': 1, 'python': 1})로 저장하여 출력하는 것이었다. 이번에는 Assignment 3를 확장하여 다음과 같은 조건을 만족하도록 구현하시오."
   ]
  },
  {
   "cell_type": "markdown",
   "id": "a086ab24",
   "metadata": {},
   "source": [
    "### 해결못했습니다, 검색을 똑같이 한 것에 대한 조회수가 있으면 더욱 좋은 프로그램이 될 것 같습니다."
   ]
  },
  {
   "cell_type": "markdown",
   "id": "3f87ea46",
   "metadata": {},
   "source": [
    "### 스크립트 프로그래밍 수업을 듣고 파이썬의 매력을 여실히 느낄 수 있었습니다. 간단하면서도 강력한 언어인 것 같아서 놀라웠습니다."
   ]
  },
  {
   "cell_type": "code",
   "execution_count": null,
   "id": "31adbddb",
   "metadata": {},
   "outputs": [],
   "source": []
  }
 ],
 "metadata": {
  "kernelspec": {
   "display_name": "Python 3",
   "language": "python",
   "name": "python3"
  },
  "language_info": {
   "codemirror_mode": {
    "name": "ipython",
    "version": 3
   },
   "file_extension": ".py",
   "mimetype": "text/x-python",
   "name": "python",
   "nbconvert_exporter": "python",
   "pygments_lexer": "ipython3",
   "version": "3.8.8"
  }
 },
 "nbformat": 4,
 "nbformat_minor": 5
}
